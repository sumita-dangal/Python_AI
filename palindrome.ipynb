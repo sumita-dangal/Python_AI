{
 "cells": [
  {
   "cell_type": "code",
   "execution_count": null,
   "id": "ccc854e2-94a1-4a73-a574-c33dc9a05b70",
   "metadata": {},
   "outputs": [],
   "source": [
    "Write a program to check palindrome."
   ]
  },
  {
   "cell_type": "code",
   "execution_count": 5,
   "id": "0e4e6960-34b0-42b0-8e7d-ddeb1fd63709",
   "metadata": {},
   "outputs": [],
   "source": [
    "\n",
    "def palindrome(n):\n",
    "    temp=n\n",
    "    rotate=0\n",
    "    while(temp!=0):\n",
    "        rotate=rotate*10+temp%10\n",
    "        temp=temp//10\n",
    "    if(rotate==n):\n",
    "        print(f\"{n} is palindrome\")\n",
    "    else:\n",
    "        print(f\"{n} is not palindrome\")"
   ]
  },
  {
   "cell_type": "code",
   "execution_count": 6,
   "id": "f4c60b98-f4f4-495a-9714-ef45ed6573ec",
   "metadata": {},
   "outputs": [
    {
     "name": "stdin",
     "output_type": "stream",
     "text": [
      "Enter a number : 656\n"
     ]
    },
    {
     "name": "stdout",
     "output_type": "stream",
     "text": [
      "656 is palindrome\n"
     ]
    }
   ],
   "source": [
    "a=int(input(\"Enter a number :\"))\n",
    "palindrome(a)"
   ]
  },
  {
   "cell_type": "code",
   "execution_count": null,
   "id": "d01455e3-a6cf-4bf0-a67d-7d4c7901a383",
   "metadata": {},
   "outputs": [],
   "source": []
  }
 ],
 "metadata": {
  "kernelspec": {
   "display_name": "Python 3 (ipykernel)",
   "language": "python",
   "name": "python3"
  },
  "language_info": {
   "codemirror_mode": {
    "name": "ipython",
    "version": 3
   },
   "file_extension": ".py",
   "mimetype": "text/x-python",
   "name": "python",
   "nbconvert_exporter": "python",
   "pygments_lexer": "ipython3",
   "version": "3.10.13"
  }
 },
 "nbformat": 4,
 "nbformat_minor": 5
}
