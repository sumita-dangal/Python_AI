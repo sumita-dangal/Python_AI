{
 "cells": [
  {
   "cell_type": "code",
   "execution_count": 3,
   "id": "44bd6da0-11cf-479b-9b0f-09013a2503ae",
   "metadata": {},
   "outputs": [],
   "source": [
    "def prime(a,b):\n",
    "    print (\"The prime number in range are:\")\n",
    "    for j in range(a,b):\n",
    "        count=0\n",
    "        for i in range(2,j):\n",
    "            if j %i == 0:\n",
    "                count+=1\n",
    "        if count ==0 :\n",
    "            print(j)\n",
    "        "
   ]
  },
  {
   "cell_type": "code",
   "execution_count": 4,
   "id": "444b42fc-1030-4936-85f0-88db47b907bb",
   "metadata": {},
   "outputs": [
    {
     "name": "stdin",
     "output_type": "stream",
     "text": [
      "Enter range of number : 1\n",
      " 10\n"
     ]
    },
    {
     "name": "stdout",
     "output_type": "stream",
     "text": [
      "The prime number in range are:\n",
      "1\n",
      "2\n",
      "3\n",
      "5\n",
      "7\n"
     ]
    }
   ],
   "source": [
    "a=int(input(\"Enter range of number :\"))\n",
    "b=int(input())\n",
    "prime(a,b+1)"
   ]
  },
  {
   "cell_type": "code",
   "execution_count": null,
   "id": "2ed228e2-239a-424a-ad45-8b8b057a4e2e",
   "metadata": {},
   "outputs": [],
   "source": []
  }
 ],
 "metadata": {
  "kernelspec": {
   "display_name": "Python 3 (ipykernel)",
   "language": "python",
   "name": "python3"
  },
  "language_info": {
   "codemirror_mode": {
    "name": "ipython",
    "version": 3
   },
   "file_extension": ".py",
   "mimetype": "text/x-python",
   "name": "python",
   "nbconvert_exporter": "python",
   "pygments_lexer": "ipython3",
   "version": "3.10.13"
  }
 },
 "nbformat": 4,
 "nbformat_minor": 5
}
