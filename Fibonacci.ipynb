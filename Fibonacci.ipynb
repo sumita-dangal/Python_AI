{
 "cells": [
  {
   "cell_type": "code",
   "execution_count": null,
   "id": "7a08ceb8-b434-4888-82fa-6a769f138a05",
   "metadata": {},
   "outputs": [],
   "source": [
    "Write a program to generate the Fibonacci sequence of a given number."
   ]
  },
  {
   "cell_type": "code",
   "execution_count": 2,
   "id": "d86af68d-e509-439c-8d08-139f566927c4",
   "metadata": {},
   "outputs": [
    {
     "name": "stdin",
     "output_type": "stream",
     "text": [
      "Enter number:  15\n"
     ]
    },
    {
     "name": "stdout",
     "output_type": "stream",
     "text": [
      "0     1     1     2     3     5     8     13     21     34     55     89     144     233     377     "
     ]
    }
   ],
   "source": [
    "def fiboseries(num):\n",
    "    n1, n2 = 0,1\n",
    "    sum = 0\n",
    "    if num <= 0:\n",
    "        print(\"Enter number greater than 0\")\n",
    "    else:\n",
    "        for i in range(0,num):\n",
    "            print(sum, end=\"     \")\n",
    "            n1 = n2\n",
    "            n2 = sum\n",
    "            sum = n1 + n2\n",
    "            \n",
    "num = int(input(\"Enter number: \"))\n",
    "fiboseries(num)\n",
    "   "
   ]
  },
  {
   "cell_type": "code",
   "execution_count": null,
   "id": "79ed98d9-0948-401a-95f2-7133ffc657bc",
   "metadata": {},
   "outputs": [],
   "source": []
  }
 ],
 "metadata": {
  "kernelspec": {
   "display_name": "Python 3 (ipykernel)",
   "language": "python",
   "name": "python3"
  },
  "language_info": {
   "codemirror_mode": {
    "name": "ipython",
    "version": 3
   },
   "file_extension": ".py",
   "mimetype": "text/x-python",
   "name": "python",
   "nbconvert_exporter": "python",
   "pygments_lexer": "ipython3",
   "version": "3.10.13"
  }
 },
 "nbformat": 4,
 "nbformat_minor": 5
}
