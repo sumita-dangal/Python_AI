{
 "cells": [
  {
   "cell_type": "code",
   "execution_count": 1,
   "id": "1688ed5d-d356-4baf-8da0-62da168125d7",
   "metadata": {},
   "outputs": [],
   "source": [
    "import random"
   ]
  },
  {
   "cell_type": "code",
   "execution_count": null,
   "id": "a2a2105d-a9dc-4da2-8e56-ad8a6f43657a",
   "metadata": {},
   "outputs": [],
   "source": [
    "num = random.randint(1,100)\n",
    "guess = int(input(\"Guess number between 1 and 100 : \"))\n",
    "\n",
    "while guess != num:\n",
    "    if guess<num:\n",
    "        print(\"Your guess is LOW, guess higher! \")\n",
    "    elif guess>num:\n",
    "        print(\"Your guess is HIGH, guess lower!\")\n",
    "        \n",
    "    guess = int(input(\"Guess again: \"))\n",
    "    \n",
    "print(\"You Guess it Right!!\")"
   ]
  },
  {
   "cell_type": "code",
   "execution_count": null,
   "id": "a3795c7a-63ba-4af8-a17d-071c0ca4fd90",
   "metadata": {},
   "outputs": [],
   "source": []
  }
 ],
 "metadata": {
  "kernelspec": {
   "display_name": "Python 3 (ipykernel)",
   "language": "python",
   "name": "python3"
  },
  "language_info": {
   "codemirror_mode": {
    "name": "ipython",
    "version": 3
   },
   "file_extension": ".py",
   "mimetype": "text/x-python",
   "name": "python",
   "nbconvert_exporter": "python",
   "pygments_lexer": "ipython3",
   "version": "3.10.13"
  }
 },
 "nbformat": 4,
 "nbformat_minor": 5
}
